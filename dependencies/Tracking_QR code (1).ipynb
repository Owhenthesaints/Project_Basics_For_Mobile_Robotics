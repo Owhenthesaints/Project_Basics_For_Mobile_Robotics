{
 "cells": [
  {
   "cell_type": "markdown",
   "metadata": {},
   "source": [
    "# Tracking"
   ]
  },
  {
   "cell_type": "code",
   "execution_count": null,
   "metadata": {},
   "outputs": [],
   "source": [
    "!pip install --upgrade opencv-python\n",
    "!pip install opencv-python numpy\n"
   ]
  },
  {
   "cell_type": "markdown",
   "metadata": {},
   "source": [
    "## Importing libraries"
   ]
  },
  {
   "cell_type": "code",
   "execution_count": 1,
   "metadata": {},
   "outputs": [],
   "source": [
    "# Importing libraries\n",
    "from PIL import Image\n",
    "import cv2\n",
    "from IPython.display import Image, display\n",
    "import math\n",
    "import numpy as np\n",
    "import matplotlib.pyplot as plt \n",
    "from shapely.geometry import LineString\n",
    "from shapely.geometry import Point\n",
    "from itertools import combinations\n",
    "import networkx as nx\n",
    "from shapely.geometry import LineString\n",
    "import colorsys"
   ]
  },
  {
   "cell_type": "markdown",
   "metadata": {},
   "source": [
    "## Projecting image to top view"
   ]
  },
  {
   "cell_type": "code",
   "execution_count": 2,
   "metadata": {},
   "outputs": [],
   "source": [
    "# https://www.geeksforgeeks.org/perspective-transformation-python-opencv/\n",
    "# https://note.nkmk.me/en/python-opencv-qrcode/\n",
    "# https://docs.opencv.org/4.x/dd/d49/tutorial_py_contour_features.html  \n",
    "# https://theailearner.com/tag/cv2-minarearect/\n",
    "\n",
    "def perspective_transformation(image,result):\n",
    "    height, width, _ = image.shape\n",
    "    \n",
    "    # Destination points for the matrix transformation\n",
    "    #dest_corners =np.float32([(width, height), (0, height), (width, 0), (0, 0)])\n",
    "    dest_corners = np.float32([(0, height), (width, height), (0, 0), (width, 0)])\n",
    "\n",
    "    # Mask values of the object to be detected\n",
    "    (min_blue, min_green, min_red) = (42, 0, 99)\n",
    "    (max_blue, max_green, max_red) = (85, 255, 255)\n",
    "\n",
    "    # Initialize a list to store the centers of the detected objects\n",
    "    centers = []\n",
    "\n",
    "    # HSV (Hue, Saturation, Value): Separates the color information from the brightness information, making it robust to changes in lighting conditions\n",
    "    hsv_frame = cv2.cvtColor(image, cv2.COLOR_BGR2HSV)\n",
    "\n",
    "    #getting the mask image from the HSV image using threshold values\n",
    "    mask = cv2.inRange(hsv_frame, (min_blue, min_green, min_red), (max_blue, max_green, max_red))\n",
    "\n",
    "    #extracting the contours of the object\n",
    "    contours,_ = cv2.findContours(mask, cv2.RETR_TREE, cv2.CHAIN_APPROX_NONE)\n",
    "\n",
    "    #sorting the contour based of area\n",
    "    contours = sorted(contours, key=cv2.contourArea, reverse=True)\n",
    "\n",
    "    # Take the top 4 contours\n",
    "    top_contours = contours[:4]\n",
    "\n",
    "    # print('number of contours', len(top_contours))\n",
    "\n",
    "    # Extract the 4 biggest contours wich are not having the same center\n",
    "    for contour in top_contours:\n",
    "        (x, y, w, h) = cv2.boundingRect(contour)\n",
    "        center = (x + w // 2, y + h // 2)\n",
    "\n",
    "        # Check if the center is not close to any existing centers\n",
    "        if all(np.linalg.norm(np.array(center) - np.array(existing_center)) > 50 for existing_center in centers):\n",
    "            centers.append(center)\n",
    "            cv2.rectangle(image, (x - 15, y - 15), (x + w + 15, y + h + 15), (0, 255, 0), 4)\n",
    "    \n",
    "    # print('number of centers',len(centers))\n",
    "    #print(centers)\n",
    "    \n",
    "    # Display the image with red points for center\n",
    "    #for center in centers:\n",
    "    #    cv2.circle(image, tuple(center), 5, (0, 0, 255), -1)\n",
    "\n",
    "    # Display the image using plt\n",
    "    #plt.imshow(cv2.cvtColor(image, cv2.COLOR_BGR2RGB))\n",
    "    #plt.title('Contours with Rectangles and Red Center Points')\n",
    "    #plt.axis('on')\n",
    "    #plt.show()\n",
    "\n",
    "    if len(centers) == 4:\n",
    "        center_points = np.float32(centers).reshape(-1, 1, 2)\n",
    "        transformation_matrix = cv2.getPerspectiveTransform(center_points, dest_corners)\n",
    "        new_perspective_image = cv2.warpPerspective(result, transformation_matrix, (width, height))\n",
    "    \n",
    "    #plt.imshow(cv2.cvtColor(new_perspective_image, cv2.COLOR_BGR2RGB))\n",
    "    #plt.title('New perspective image')\n",
    "    #plt.axis('on')\n",
    "    #plt.show()\n",
    "\n",
    "        return new_perspective_image, transformation_matrix\n",
    "    else:\n",
    "    # Return the initial image if not enough contours are detected\n",
    "        transformation_matrix = None\n",
    "        return image, transformation_matrix"
   ]
  },
  {
   "cell_type": "code",
   "execution_count": null,
   "metadata": {},
   "outputs": [],
   "source": [
    "def real_angle(rect, prev_angle):\n",
    "    angle = rect[2]\n",
    "\n",
    "    # Check if the rectangle is vertically oriented\n",
    "    if rect[1][0] < rect[1][1]:\n",
    "        angle -= 90\n",
    "    \n",
    "    \n",
    "    # Choose the shorter edge to compute the angle between vertical\n",
    "    width, height = rect[1]\n",
    "    if width > height:\n",
    "        angle += 180\n",
    "    else:\n",
    "        angle += 90\n",
    "    \n",
    "    # Adjust the angle based on previous angle\n",
    "    num_rotations = int((prev_angle - angle) / 90)\n",
    "    real_angle = angle - num_rotations * 90\n",
    "    \n",
    "    # Convert the angle to the range [0, 360)\n",
    "    while real_angle < 0:\n",
    "        real_angle += 360\n",
    "\n",
    "    while real_angle >= 360:\n",
    "        real_angle -= 360\n",
    "\n",
    "    # Update the previous angle for the next iteration\n",
    "    prev_angle = angle\n",
    "\n",
    "    return real_angle, prev_angle"
   ]
  },
  {
   "cell_type": "code",
   "execution_count": null,
   "metadata": {},
   "outputs": [],
   "source": [
    "def angle_robot(points, transformation_matrix, prev_angle=0):\n",
    "    \n",
    "    if transformation_matrix is not None:        \n",
    "        # Apply the new perspective on the points\n",
    "        points = cv2.perspectiveTransform(points.reshape(-1, 1, 2), transformation_matrix)\n",
    "\n",
    "    # Extract the rotation angle from the rectangle\n",
    "    # the angle between the line joining the starting and endpoint and the horizontal  [-90,0] \n",
    "    rect = cv2.minAreaRect(points)\n",
    "    angle, prev_angle = real_angle(rect, prev_angle)\n",
    "\n",
    "    return angle, prev_angle"
   ]
  },
  {
   "cell_type": "code",
   "execution_count": null,
   "metadata": {},
   "outputs": [],
   "source": [
    "# Load the image\n",
    "\n",
    "# filename = 'Images/green_square_no_QR.png'\n",
    "filename = 'Images/green_square.png'\n",
    "image = cv2.imread(filename, cv2.IMREAD_COLOR)\n",
    "result = image.copy()\n",
    "height, width, _ = image.shape\n",
    "\n",
    "# Perform perspective transformation\n",
    "new_perspective_image = perspective_transformation(image,result)\n"
   ]
  },
  {
   "cell_type": "code",
   "execution_count": 10,
   "metadata": {},
   "outputs": [
    {
     "ename": "error",
     "evalue": "OpenCV(4.8.1) D:\\a\\opencv-python\\opencv-python\\opencv\\modules\\highgui\\src\\window_w32.cpp:2561: error: (-27:Null pointer) NULL window: 'Track Bars' in function 'cvGetTrackbarPos'\n",
     "output_type": "error",
     "traceback": [
      "\u001b[1;31m---------------------------------------------------------------------------\u001b[0m",
      "\u001b[1;31merror\u001b[0m                                     Traceback (most recent call last)",
      "\u001b[1;32m<ipython-input-10-09bd253b14f1>\u001b[0m in \u001b[0;36m<module>\u001b[1;34m\u001b[0m\n\u001b[0;32m     29\u001b[0m \u001b[1;32mwhile\u001b[0m \u001b[1;32mTrue\u001b[0m\u001b[1;33m:\u001b[0m\u001b[1;33m\u001b[0m\u001b[1;33m\u001b[0m\u001b[0m\n\u001b[0;32m     30\u001b[0m     \u001b[1;31m#reading the trackbar values for thresholds\u001b[0m\u001b[1;33m\u001b[0m\u001b[1;33m\u001b[0m\u001b[1;33m\u001b[0m\u001b[0m\n\u001b[1;32m---> 31\u001b[1;33m     \u001b[0mmin_blue\u001b[0m \u001b[1;33m=\u001b[0m \u001b[0mcv2\u001b[0m\u001b[1;33m.\u001b[0m\u001b[0mgetTrackbarPos\u001b[0m\u001b[1;33m(\u001b[0m\u001b[1;34m'min_blue'\u001b[0m\u001b[1;33m,\u001b[0m \u001b[1;34m'Track Bars'\u001b[0m\u001b[1;33m)\u001b[0m\u001b[1;33m\u001b[0m\u001b[1;33m\u001b[0m\u001b[0m\n\u001b[0m\u001b[0;32m     32\u001b[0m     \u001b[0mmin_green\u001b[0m \u001b[1;33m=\u001b[0m \u001b[0mcv2\u001b[0m\u001b[1;33m.\u001b[0m\u001b[0mgetTrackbarPos\u001b[0m\u001b[1;33m(\u001b[0m\u001b[1;34m'min_green'\u001b[0m\u001b[1;33m,\u001b[0m \u001b[1;34m'Track Bars'\u001b[0m\u001b[1;33m)\u001b[0m\u001b[1;33m\u001b[0m\u001b[1;33m\u001b[0m\u001b[0m\n\u001b[0;32m     33\u001b[0m     \u001b[0mmin_red\u001b[0m \u001b[1;33m=\u001b[0m \u001b[0mcv2\u001b[0m\u001b[1;33m.\u001b[0m\u001b[0mgetTrackbarPos\u001b[0m\u001b[1;33m(\u001b[0m\u001b[1;34m'min_red'\u001b[0m\u001b[1;33m,\u001b[0m \u001b[1;34m'Track Bars'\u001b[0m\u001b[1;33m)\u001b[0m\u001b[1;33m\u001b[0m\u001b[1;33m\u001b[0m\u001b[0m\n",
      "\u001b[1;31merror\u001b[0m: OpenCV(4.8.1) D:\\a\\opencv-python\\opencv-python\\opencv\\modules\\highgui\\src\\window_w32.cpp:2561: error: (-27:Null pointer) NULL window: 'Track Bars' in function 'cvGetTrackbarPos'\n"
     ]
    }
   ],
   "source": [
    "# https://medium.com/globant/maneuvering-color-mask-into-object-detection-fce61bf891d1\n",
    "\n",
    "#empty function\n",
    "def doNothing(x):\n",
    "    pass\n",
    "\n",
    "#creating a resizable window named Track Bars\n",
    "cv2.namedWindow('Track Bars', cv2.WINDOW_NORMAL)\n",
    "\n",
    "#creating track bars for gathering threshold values of red green and blue\n",
    "cv2.createTrackbar('min_blue', 'Track Bars', 0, 255, doNothing)\n",
    "cv2.createTrackbar('min_green', 'Track Bars', 0, 255, doNothing)\n",
    "cv2.createTrackbar('min_red', 'Track Bars', 0, 255, doNothing)\n",
    "\n",
    "cv2.createTrackbar('max_blue', 'Track Bars', 0, 255, doNothing)\n",
    "cv2.createTrackbar('max_green', 'Track Bars', 0, 255, doNothing)\n",
    "cv2.createTrackbar('max_red', 'Track Bars', 0, 255, doNothing)\n",
    "\n",
    "resized_image = cv2.resize(image,(800, 626))\n",
    "#converting into HSV color model\n",
    "hsv_image = cv2.cvtColor(resized_image, cv2.COLOR_BGR2HSV)\n",
    "\n",
    "#showing both resized and hsv image in named windows\n",
    "cv2.imshow('Base Image', resized_image)\n",
    "cv2.imshow('HSV Image', hsv_image)\n",
    "\n",
    "\n",
    "#creating a loop to get the feedback of the changes in trackbars\n",
    "while True:\n",
    "    #reading the trackbar values for thresholds\n",
    "    min_blue = cv2.getTrackbarPos('min_blue', 'Track Bars')\n",
    "    min_green = cv2.getTrackbarPos('min_green', 'Track Bars')\n",
    "    min_red = cv2.getTrackbarPos('min_red', 'Track Bars')\n",
    "    \n",
    "    max_blue = cv2.getTrackbarPos('max_blue', 'Track Bars')\n",
    "    max_green = cv2.getTrackbarPos('max_green', 'Track Bars')\n",
    "    max_red = cv2.getTrackbarPos('max_red', 'Track Bars')\n",
    "    \n",
    "    #using inrange function to turn on the image pixels where object threshold is matched\n",
    "    mask = cv2.inRange(hsv_image, (min_blue, min_green, min_red), (max_blue, max_green, max_red))\n",
    "    #showing the mask image\n",
    "    cv2.imshow('Mask Image', mask)\n",
    "    # checking if q key is pressed to break out of loop\n",
    "    key = cv2.waitKey(25)\n",
    "    if key == ord('q'):\n",
    "        break\n",
    "        \n",
    "#printing the threshold values for usage in detection application\n",
    "print(f'min_blue {min_blue}  min_green {min_green} min_red {min_red}')\n",
    "print(f'max_blue {max_blue}  max_green {max_green} max_red {max_red}')\n",
    "#destroying all windows\n",
    "cv2.destroyAllWindows()\n"
   ]
  },
  {
   "cell_type": "markdown",
   "metadata": {},
   "source": [
    "## Start Tracking of QR code position and angle in the new perspective\n"
   ]
  },
  {
   "cell_type": "code",
   "execution_count": 9,
   "metadata": {},
   "outputs": [],
   "source": [
    "window_name = 'Tracking QR Code'\n",
    "camera_id = 0 # Try changing with one of these (0,1,2..) because it depends how amny cameras are connected to your PC\n",
    "\n",
    "video_stream = cv2.VideoCapture(camera_id)\n",
    "QR_detector = cv2.QRCodeDetector()\n",
    "prev_angle = 1\n",
    "\n",
    "# Check if the webcam is opened correctly\n",
    "if not video_stream.isOpened():\n",
    "    raise IOError(\"Cannot open webcam\")\n",
    "\n",
    "while True:\n",
    "    # Capture a frame from the video stream\n",
    "    ret, image = video_stream.read()\n",
    "    if ret:\n",
    "        # Detect QR codes in the captured frame\n",
    "        ret_qr_code, points, _ = QR_detector.detectAndDecode(image)\n",
    "        if ret_qr_code:\n",
    "            img_copy = image.copy()\n",
    "            \n",
    "            color = (0, 255, 0)\n",
    "            img_copy = cv2.polylines(img_copy, [points.astype(int)], isClosed=True, color=color, thickness=8)\n",
    "            \n",
    "            # Apply the new percpective on the frame\n",
    "            new_perspective_image, transformation_matrix = perspective_transformation(image,img_copy)\n",
    "                        \n",
    "            #angle, prev_angle = angle_robot(points, transformation_matrix, prev_angle)\n",
    "            #print(angle)\n",
    "            \n",
    "            # Display the modified image in the window\n",
    "            cv2.imshow(window_name, new_perspective_image)\n",
    "            # Display the initial image in the window\n",
    "            #cv2.imshow(window_name, img_copy)\n",
    "\n",
    "    # Exiting the loop when the 'Esc' key is pressed\n",
    "    c = cv2.waitKey(1)\n",
    "    if c == 27:\n",
    "        break\n",
    "\n",
    "video_stream.release()\n",
    "cv2.destroyAllWindows()"
   ]
  },
  {
   "cell_type": "code",
   "execution_count": null,
   "metadata": {},
   "outputs": [],
   "source": []
  }
 ],
 "metadata": {
  "kernelspec": {
   "display_name": "Python 3",
   "language": "python",
   "name": "python3"
  },
  "language_info": {
   "codemirror_mode": {
    "name": "ipython",
    "version": 3
   },
   "file_extension": ".py",
   "mimetype": "text/x-python",
   "name": "python",
   "nbconvert_exporter": "python",
   "pygments_lexer": "ipython3",
   "version": "3.8.5"
  },
  "toc": {
   "base_numbering": 1,
   "nav_menu": {},
   "number_sections": true,
   "sideBar": true,
   "skip_h1_title": false,
   "title_cell": "Table of Contents",
   "title_sidebar": "Contents",
   "toc_cell": false,
   "toc_position": {},
   "toc_section_display": true,
   "toc_window_display": false
  },
  "varInspector": {
   "cols": {
    "lenName": 16,
    "lenType": 16,
    "lenVar": 40
   },
   "kernels_config": {
    "python": {
     "delete_cmd_postfix": "",
     "delete_cmd_prefix": "del ",
     "library": "var_list.py",
     "varRefreshCmd": "print(var_dic_list())"
    },
    "r": {
     "delete_cmd_postfix": ") ",
     "delete_cmd_prefix": "rm(",
     "library": "var_list.r",
     "varRefreshCmd": "cat(var_dic_list()) "
    }
   },
   "types_to_exclude": [
    "module",
    "function",
    "builtin_function_or_method",
    "instance",
    "_Feature"
   ],
   "window_display": false
  }
 },
 "nbformat": 4,
 "nbformat_minor": 4
}
