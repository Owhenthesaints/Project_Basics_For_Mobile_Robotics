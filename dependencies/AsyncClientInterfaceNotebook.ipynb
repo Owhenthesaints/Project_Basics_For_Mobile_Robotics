{
 "cells": [
  {
   "cell_type": "markdown",
   "source": [
    "## The Notebook on Controlling the Thymio"
   ],
   "metadata": {
    "collapsed": false
   },
   "id": "b51ce3ce7e23a4f5"
  },
  {
   "cell_type": "markdown",
   "source": [
    "For this project and for the control of the Thymio I had the vision of a wrapper for the node and the client that would take care of everything in a very modular way. I the opted to create another more semantic wraper of AsyncClientInterface called ThymioRobot, with AsyncClientInterface serving as a lower level class"
   ],
   "metadata": {
    "collapsed": false
   },
   "id": "137de4f9f1ec38d2"
  },
  {
   "cell_type": "markdown",
   "source": [
    "### AsyncClientInterface"
   ],
   "metadata": {
    "collapsed": false
   },
   "id": "6bb2ddd972ee855f"
  },
  {
   "cell_type": "code",
   "execution_count": null,
   "outputs": [],
   "source": [
    "from typing import Callable, Any\n",
    "import dependencies.constants_robot as cst\n",
    "from tdmclient import ClientAsync, aw\n",
    "\n",
    "\n",
    "class InvalidArgumentError(Exception):\n",
    "    pass\n",
    "\n",
    "\n",
    "class AsyncClientInterface:\n",
    "    \"\"\"\n",
    "    This is a class aimed to make the handling of the node easier and more readable\n",
    "    \"\"\"\n",
    "    LEFT_MOTOR = \"motor.left.target\"\n",
    "    RIGHT_MOTOR = \"motor.right.target\"\n",
    "    RIGHT_SPEED = \"motor.right.speed\"\n",
    "    LEFT_SPEED = \"motor.left.speed\"\n",
    "    PROX_HORIZONTAL_VALUES = \"prox.horizontal\"\n",
    "    LEDS_BOTTOM_LEFT = \"leds.bottom.left\"\n",
    "    LEDS_BOTTOM_RIGHT = \"leds.bottom.right\"\n",
    "    PROX_GROUND_DELTA = \"prox.ground.delta\"\n",
    "    PROX_GROUND_REFLECTED = \"prox.ground.reflected\"\n",
    "    MIC_INTENSITY = \"mic.intensity\"\n",
    "    LEDS_TOP = \"leds.top\"\n",
    "    __right_motor_value: int = 0\n",
    "    __left_motor_value: int = 0\n",
    "    _delta_calib = 1\n",
    "    _refl_calib = 1\n",
    "\n",
    "    def __init__(self, delta_calib: float = cst.DELTA_ROBOT, refl_calib: float = cst.REFL_ROBOT):\n",
    "        \"\"\"\n",
    "        :param delta_calib: input known calibration for me it is 1.35\n",
    "        :param refl_calib: input known calibration for me it is also about 1.35\n",
    "        :param time_to_turn_const: time in seconds to turn 360° with motor speed = 150\n",
    "        :type time_to_turn_const: float\n",
    "        \"\"\"\n",
    "        self.client = ClientAsync()\n",
    "        self.node = aw(self.client.wait_for_node())\n",
    "        aw(self.node.lock())\n",
    "        # Code to desactivate leds on start\n",
    "        aw(self.node.compile(\"\"\"call leds.prox.v(0, 0)\\ncall leds.prox.h(0, 0, 0, 0, 0, 0, 0, 0)\\ncall leds.temperature(0, 0)\\ncall leds.top(0, 0, 0)\\ncall leds.circle(0, 0, 0, 0, 0, 0, 0, 0)\\ncall leds.buttons(0, 0, 0, 0)\\ncall leds.sound(0)\\ncall leds.rc(0)\"\"\"))\n",
    "        self._refl_calib = refl_calib\n",
    "        self._delta_calib = delta_calib\n",
    "\n",
    "\n",
    "    def sleep(self, seconds):\n",
    "        aw(self.client.sleep(seconds))\n",
    "\n",
    "    def get_refl_calib(self) -> float:\n",
    "        return self._refl_calib\n",
    "\n",
    "    def get_del_calib(self) -> float:\n",
    "        return self._delta_calib\n",
    "\n",
    "    def set_motors(self, *args, **kwargs) -> None:\n",
    "        \"\"\"\n",
    "        A flexible function that lets you input the speed of the motors\n",
    "\n",
    "        :param args: left_motor then right_motor\n",
    "        :type args: int\n",
    "        :param kwargs: can put in right_motor or left_motor value in directly or put in array with length 2\n",
    "        :type kwargs: int or list[int, int]\n",
    "\n",
    "        :return: None\n",
    "        \"\"\"\n",
    "        if len(args) == 2:\n",
    "            aw(self.node.set_variables({\n",
    "                self.LEFT_MOTOR: [args[0]],\n",
    "                self.RIGHT_MOTOR: [args[1]]\n",
    "            }))\n",
    "\n",
    "        elif len(args) == 1:\n",
    "            aw(self.node.set_variables({\n",
    "                self.LEFT_MOTOR: [args[0]]\n",
    "            }))\n",
    "\n",
    "        if 'left_motor' in kwargs:\n",
    "            if isinstance(kwargs['left_motor'], int):\n",
    "                aw(self.node.set_variables({\n",
    "                    self.LEFT_MOTOR: [kwargs['left_motor']]\n",
    "                }))\n",
    "            else:\n",
    "                raise TypeError(\"value attributed to left_motor was not int\")\n",
    "\n",
    "        if 'right_motor' in kwargs:\n",
    "            if isinstance(kwargs['right_motor'], int):\n",
    "                aw(self.node.set_variables({\n",
    "                    self.RIGHT_MOTOR: [kwargs['right_motor']]\n",
    "                }))\n",
    "            else:\n",
    "                raise TypeError(\"value attributed to right_motor was not int\")\n",
    "        if 'motor' in kwargs:\n",
    "            if isinstance(kwargs['motor'], list) and len(kwargs['motor']) == 2:\n",
    "                aw(self.node.set_variables({\n",
    "                    self.LEFT_MOTOR: [int(kwargs['motor'][0])],\n",
    "                    self.RIGHT_MOTOR: [int(kwargs['motor'][1])]\n",
    "                }))\n",
    "            else:\n",
    "                raise TypeError(\"either array too long or too short or did not respect type list\")\n",
    "\n",
    "    def calibrate_sensor_prox_ref(self, delta: bool, set_val: bool = True, preset_Val: float = None) -> float | bool:\n",
    "        \"\"\"\n",
    "            A function that returns an int (sensor_1/sensor_2) used to calibrate the two sensors of\n",
    "            prox_ground_reflected\n",
    "\n",
    "            :param set_val: defines whether you would like to set the internal calib val\n",
    "            :type set_val: bool\n",
    "\n",
    "            :param delta: if function should be used for delta or reflected\n",
    "            :type delta: bool\n",
    "\n",
    "            :returns: ref_sensor_1/ref_sensor_2\n",
    "            :rtype: float or bool\n",
    "        \"\"\"\n",
    "\n",
    "        ref_value = self.get_sensor(\"prox_del\") if delta else self.get_sensor(\"prox_ref\")\n",
    "        calibration = ref_value[0] / ref_value[1]\n",
    "        if preset_Val:\n",
    "            if delta:\n",
    "                self._delta_calib = preset_Val\n",
    "            else:\n",
    "                self._refl_calib = preset_Val\n",
    "            return preset_Val\n",
    "        elif ref_value:\n",
    "            if set_val:\n",
    "                if delta:\n",
    "                    self._delta_calib = calibration\n",
    "                else:\n",
    "                    self._refl_calib = calibration\n",
    "            return calibration\n",
    "        else:\n",
    "            return False\n",
    "\n",
    "    def set_led(self, sensor: str, value: int | list[int]) -> None:\n",
    "        \"\"\"\n",
    "        A function that enables you to set sensors through the node.set_variables method the leds expect values between 0 and 32\n",
    "        :param sensor: input your sensor\n",
    "            - 'leds_top': expects three rgb values\n",
    "\n",
    "        :param value: a list or an array containing the values you want to output\n",
    "        \"\"\"\n",
    "\n",
    "        if sensor == \"leds_top\":\n",
    "            if isinstance(value, list) and len(value) == 3:\n",
    "                aw(self.node.wait_for_variables({\"leds.top\"}))\n",
    "                for index, rgb in enumerate(value):\n",
    "                    self.node.v.leds.top[index] = rgb\n",
    "            else:\n",
    "                raise TypeError(\"either did not input list or list was not of right length\")\n",
    "\n",
    "        self.node.flush()\n",
    "\n",
    "\n",
    "    def get_sensor(self, sensor: str, calibrated: bool = False) -> list[int] | int | bool:\n",
    "        \"\"\"\n",
    "        This is a function that returns the value of the sensor it accepts only a string and uses a switch case method\n",
    "\n",
    "\n",
    "        :param sensor : Accepts  a limited number of strings\\\n",
    "            - 'prox_del' : this presents the array of prox ground delta with the option of calibration\\\n",
    "            - 'prox_ref' : this presents the array of prox ground reflected with the option of calibration\\\n",
    "            - self.CONSTANT: this is presented in the example in the description\n",
    "\n",
    "        :type sensor: str\n",
    "\n",
    "        :return: returns the value or array of a sensor, or returns False if invalid string is passed as argument\n",
    "        :rtype: list[int] or int or bool or list[bool]\n",
    "\n",
    "        Example:\n",
    "\n",
    "        >>>Client = AsyncClientInterface(1.35,1.35)\n",
    "\n",
    "        >>>print(Client.get_sensor(Client.PROX_GROUND_DELTA))\n",
    "        \"\"\"\n",
    "        if sensor == \"prox_del\":\n",
    "            aw(self.node.wait_for_variables({self.PROX_GROUND_DELTA}))\n",
    "            if calibrated:\n",
    "                calibrated_sensor_2 = int(list(self.node.v.prox.ground.delta)[1]) * self._delta_calib\n",
    "                return [int(list(self.node.v.prox.ground.delta)[0]), int(calibrated_sensor_2)].copy()\n",
    "            else:\n",
    "                return list(self.node.v.prox.ground.delta).copy()\n",
    "\n",
    "        elif sensor == \"prox_ref\":\n",
    "            aw(self.node.wait_for_variables({self.PROX_GROUND_REFLECTED}))\n",
    "            if calibrated:\n",
    "                calibrated_sensor_2 = int(list(self.node.v.prox.ground.reflected)[1]) * self._refl_calib\n",
    "                return [int(list(self.node.v.prox.ground.reflected)[0]), int(calibrated_sensor_2)].copy()\n",
    "            else:\n",
    "                return list(self.node.v.prox.ground.reflected).copy()\n",
    "\n",
    "        else:\n",
    "            aw(self.node.wait_for_variables({sensor}))\n",
    "            attributes = sensor.split(\".\")\n",
    "            node_with_attr = getattr(self.node, \"v\")\n",
    "            for attribute in attributes:\n",
    "                node_with_attr = getattr(node_with_attr, attribute)\n",
    "\n",
    "            try:\n",
    "                if not type(node_with_attr) == int:\n",
    "                    return list(node_with_attr)\n",
    "                else:\n",
    "                    return node_with_attr\n",
    "            except AttributeError:\n",
    "                raise InvalidArgumentError(\"attribute was not found due to wrong input being put in\")\n",
    "\n",
    "\n",
    "\n",
    "    def __del__(self):\n",
    "        aw(self.node.unlock())\n"
   ],
   "metadata": {
    "collapsed": false,
    "is_executing": true
   },
   "id": "6054f493e643182d"
  },
  {
   "cell_type": "markdown",
   "source": [
    "Let us start by analysing the Initialisation"
   ],
   "metadata": {
    "collapsed": false
   },
   "id": "8d0a0a480684b06f"
  },
  {
   "cell_type": "markdown",
   "source": [
    "The constructor and destructor takes the seven lines of code below and automates them"
   ],
   "metadata": {
    "collapsed": false
   },
   "id": "7ce8da617bc67eea"
  },
  {
   "cell_type": "code",
   "execution_count": null,
   "outputs": [],
   "source": [
    "from tdmclient import ClientAsync\n",
    "\n",
    "client = ClientAsync()\n",
    "node = aw(client.wait_for_node())\n",
    "aw(node.lock())\n",
    "# Code to desactivate leds on start\n",
    "aw(node.compile(\"\"\"call leds.prox.v(0, 0)\\ncall leds.prox.h(0, 0, 0, 0, 0, 0, 0, 0)\\ncall leds.temperature(0, 0)\\ncall leds.top(0, 0, 0)\\ncall leds.circle(0, 0, 0, 0, 0, 0, 0, 0)\\ncall leds.buttons(0, 0, 0, 0)\\ncall leds.sound(0)\\ncall leds.rc(0)\"\"\"))\n",
    "\n",
    "aw(node.unlock())\n",
    "        "
   ],
   "metadata": {
    "collapsed": false,
    "is_executing": true
   },
   "id": "c248c748a670e113"
  },
  {
   "cell_type": "markdown",
   "source": [
    "giving us this code instead"
   ],
   "metadata": {
    "collapsed": false
   },
   "id": "4b8810fe7ae7fb29"
  },
  {
   "cell_type": "code",
   "execution_count": null,
   "outputs": [],
   "source": [
    "from dependencies.AsyncClientInterface import AsyncClientInterface\n",
    "\n",
    "AsyncClient = AsyncClientInterface()"
   ],
   "metadata": {
    "collapsed": false,
    "is_executing": true
   },
   "id": "128ba5fdadfdc3e1"
  },
  {
   "cell_type": "markdown",
   "source": [
    "Let us now move on to the function that are important the project the first being set_motors"
   ],
   "metadata": {
    "collapsed": false
   },
   "id": "736227de57c5527f"
  },
  {
   "cell_type": "markdown",
   "source": [
    "Through this class I aimed to control the motors through a very permissive method. I had to work around the problem of their being no possibility to override functions like in C++ in python I there had to use args, kwargs and some logic. This gives us a very permissive function"
   ],
   "metadata": {
    "collapsed": false
   },
   "id": "845cf163ad05bacc"
  },
  {
   "cell_type": "code",
   "execution_count": null,
   "outputs": [],
   "source": [
    "def set_motors(self, *args, **kwargs) -> None:\n",
    "        \"\"\"\n",
    "        A flexible function that lets you input the speed of the motors\n",
    "\n",
    "        :param args: left_motor then right_motor\n",
    "        :type args: int\n",
    "        :param kwargs: can put in right_motor or left_motor value in directly or put in array with length 2\n",
    "        :type kwargs: int or list[int, int]\n",
    "\n",
    "        :return: None\n",
    "        \"\"\"\n",
    "        if len(args) == 2:\n",
    "            aw(self.node.set_variables({\n",
    "                self.LEFT_MOTOR: [args[0]],\n",
    "                self.RIGHT_MOTOR: [args[1]]\n",
    "            }))\n",
    "\n",
    "        elif len(args) == 1:\n",
    "            aw(self.node.set_variables({\n",
    "                self.LEFT_MOTOR: [args[0]]\n",
    "            }))\n",
    "\n",
    "        if 'left_motor' in kwargs:\n",
    "            if isinstance(kwargs['left_motor'], int):\n",
    "                aw(self.node.set_variables({\n",
    "                    self.LEFT_MOTOR: [kwargs['left_motor']]\n",
    "                }))\n",
    "            else:\n",
    "                raise TypeError(\"value attributed to left_motor was not int\")\n",
    "\n",
    "        if 'right_motor' in kwargs:\n",
    "            if isinstance(kwargs['right_motor'], int):\n",
    "                aw(self.node.set_variables({\n",
    "                    self.RIGHT_MOTOR: [kwargs['right_motor']]\n",
    "                }))\n",
    "            else:\n",
    "                raise TypeError(\"value attributed to right_motor was not int\")\n",
    "        if 'motor' in kwargs:\n",
    "            if isinstance(kwargs['motor'], list) and len(kwargs['motor']) == 2:\n",
    "                aw(self.node.set_variables({\n",
    "                    self.LEFT_MOTOR: [int(kwargs['motor'][0])],\n",
    "                    self.RIGHT_MOTOR: [int(kwargs['motor'][1])]\n",
    "                }))\n",
    "            else:\n",
    "                raise TypeError(\"either array too long or too short or did not respect type list\")\n"
   ],
   "metadata": {
    "collapsed": false,
    "is_executing": true
   },
   "id": "4f1087b95781451e"
  },
  {
   "cell_type": "markdown",
   "source": [
    "We can notice that the internal function code uses variables such as self.LEFT_MOTOR and self.RIGHT_MOTOR which are set to motor.left.target and motor.right.target respectively. These are put under the form of variables to avoid magic strings and make code more readable"
   ],
   "metadata": {
    "collapsed": false
   },
   "id": "34732e7c91321eb0"
  },
  {
   "cell_type": "markdown",
   "source": [
    "This finally means the function can be called in different ways"
   ],
   "metadata": {
    "collapsed": false
   },
   "id": "496af8227474e6e8"
  },
  {
   "cell_type": "code",
   "execution_count": null,
   "outputs": [],
   "source": [
    "AsyncClient.set_motors(50, 50)\n",
    "AsyncClient.set_motors(left_motor=100, right_motor=100)\n",
    "AsyncClientInterface.set_motors(motor=[100, 100])"
   ],
   "metadata": {
    "collapsed": false
   },
   "id": "561044aa423dfd18"
  },
  {
   "cell_type": "markdown",
   "source": [
    "I will skip over the functions that have not been used for the project I decided to keep them because they are a nice addition and could have potentially been useful"
   ],
   "metadata": {
    "collapsed": false
   },
   "id": "1e7c4219d610bfe5"
  },
  {
   "cell_type": "markdown",
   "source": [
    "Now onto get_sensor which is a polyvalent function that enables us to get the value of any sensor"
   ],
   "metadata": {
    "collapsed": false
   },
   "id": "25babb9b2c86d3f6"
  },
  {
   "cell_type": "code",
   "execution_count": null,
   "outputs": [],
   "source": [
    "    def get_sensor(self, sensor: str, calibrated: bool = False) -> list[int] | int | bool:\n",
    "        \"\"\"\n",
    "        This is a function that returns the value of the sensor it accepts only a string and uses a switch case method\n",
    "\n",
    "\n",
    "        :param sensor : Accepts  a limited number of strings\\\n",
    "            - 'prox_del' : this presents the array of prox ground delta with the option of calibration\\\n",
    "            - 'prox_ref' : this presents the array of prox ground reflected with the option of calibration\\\n",
    "            - self.CONSTANT: this is presented in the example in the description\n",
    "\n",
    "        :type sensor: str\n",
    "\n",
    "        :return: returns the value or array of a sensor, or returns False if invalid string is passed as argument\n",
    "        :rtype: list[int] or int or bool or list[bool]\n",
    "\n",
    "        Example:\n",
    "\n",
    "        >>>Client = AsyncClientInterface(1.35,1.35)\n",
    "\n",
    "        >>>print(Client.get_sensor(Client.PROX_GROUND_DELTA))\n",
    "        \"\"\"\n",
    "        if sensor == \"prox_del\":\n",
    "            aw(self.node.wait_for_variables({self.PROX_GROUND_DELTA}))\n",
    "            if calibrated:\n",
    "                calibrated_sensor_2 = int(list(self.node.v.prox.ground.delta)[1]) * self._delta_calib\n",
    "                return [int(list(self.node.v.prox.ground.delta)[0]), int(calibrated_sensor_2)].copy()\n",
    "            else:\n",
    "                return list(self.node.v.prox.ground.delta).copy()\n",
    "\n",
    "        elif sensor == \"prox_ref\":\n",
    "            aw(self.node.wait_for_variables({self.PROX_GROUND_REFLECTED}))\n",
    "            if calibrated:\n",
    "                calibrated_sensor_2 = int(list(self.node.v.prox.ground.reflected)[1]) * self._refl_calib\n",
    "                return [int(list(self.node.v.prox.ground.reflected)[0]), int(calibrated_sensor_2)].copy()\n",
    "            else:\n",
    "                return list(self.node.v.prox.ground.reflected).copy()\n",
    "\n",
    "        else:\n",
    "            aw(self.node.wait_for_variables({sensor}))\n",
    "            attributes = sensor.split(\".\")\n",
    "            node_with_attr = getattr(self.node, \"v\")\n",
    "            for attribute in attributes:\n",
    "                node_with_attr = getattr(node_with_attr, attribute)\n",
    "\n",
    "            try:\n",
    "                if not type(node_with_attr) == int:\n",
    "                    return list(node_with_attr)\n",
    "                else:\n",
    "                    return node_with_attr\n",
    "            except AttributeError:\n",
    "                raise InvalidArgumentError(\"attribute was not found due to wrong input being put in\")\n"
   ],
   "metadata": {
    "collapsed": false
   },
   "id": "d09ca1c461fa23e3"
  },
  {
   "cell_type": "markdown",
   "source": [
    "there are two sensor which needed calibration on the thymio so I added them as a special condition which can be found with \"prox_del\" and \"prox_refl\" so they follow textbook code to get the values of sensors from the node. They were not used for the project so I will not look at that section"
   ],
   "metadata": {
    "collapsed": false
   },
   "id": "5a575bf2194daf13"
  },
  {
   "cell_type": "markdown",
   "source": [
    "Now the most interesting part of the code is this snippet where I split the incoming string use getattr function in order to get the values of the sensors "
   ],
   "metadata": {
    "collapsed": false
   },
   "id": "c43a9f3540728a2c"
  },
  {
   "cell_type": "markdown",
   "source": [
    "In the upcoming section of code I split the code at full stops present in the incoming string and then use getattr function imported from python in order to emulate, if we call the function with \"motor.left.speed\" the code fetching node.v.motor.left.speed  "
   ],
   "metadata": {
    "collapsed": false
   },
   "id": "15aa44f630c45fe0"
  },
  {
   "cell_type": "code",
   "execution_count": null,
   "outputs": [],
   "source": [
    "else:\n",
    "    aw(self.node.wait_for_variables({sensor}))\n",
    "    attributes = sensor.split(\".\")\n",
    "    node_with_attr = getattr(self.node, \"v\")\n",
    "    for attribute in attributes:\n",
    "        node_with_attr = getattr(node_with_attr, attribute)\n",
    "\n",
    "    try:\n",
    "        if not type(node_with_attr) == int:\n",
    "            return list(node_with_attr)\n",
    "        else:\n",
    "            return node_with_attr\n",
    "    except AttributeError:\n",
    "        raise InvalidArgumentError(\"attribute was not found due to wrong input being put in\")\n"
   ],
   "metadata": {
    "collapsed": false
   },
   "id": "be8170add896678a"
  },
  {
   "cell_type": "markdown",
   "source": [
    "this enables us to write lean code such as"
   ],
   "metadata": {
    "collapsed": false
   },
   "id": "b0ad6076a91e7357"
  },
  {
   "cell_type": "code",
   "execution_count": null,
   "outputs": [],
   "source": [
    "AsyncClient.get_sensor(AsyncClient.LEFT_SPEED)"
   ],
   "metadata": {
    "collapsed": false,
    "is_executing": true
   },
   "id": "525a68e83b73a068"
  },
  {
   "cell_type": "markdown",
   "source": [
    "Then I put in set_led enables to set the leds and checks for 3 values."
   ],
   "metadata": {
    "collapsed": false
   },
   "id": "7da678c619163406"
  },
  {
   "cell_type": "code",
   "execution_count": null,
   "outputs": [],
   "source": [
    "    def set_led(self, sensor: str, value: int | list[int]) -> None:\n",
    "        \"\"\"\n",
    "        A function that enables you to set sensors through the node.set_variables method the leds expect values between 0 and 32\n",
    "        :param sensor: input your sensor\n",
    "            - 'leds_top': expects three rgb values\n",
    "\n",
    "        :param value: a list or an array containing the values you want to output\n",
    "        \"\"\"\n",
    "\n",
    "        if sensor == \"leds_top\":\n",
    "            if isinstance(value, list) and len(value) == 3:\n",
    "                aw(self.node.wait_for_variables({\"leds.top\"}))\n",
    "                for index, rgb in enumerate(value):\n",
    "                    self.node.v.leds.top[index] = rgb\n",
    "            else:\n",
    "                raise TypeError(\"either did not input list or list was not of right length\")\n",
    "\n",
    "        self.node.flush()\n"
   ],
   "metadata": {
    "collapsed": false
   },
   "id": "23ddecd67b594f5c"
  },
  {
   "cell_type": "markdown",
   "source": [
    "We can then set the upper leds to blue with this bit of code"
   ],
   "metadata": {
    "collapsed": false
   },
   "id": "53299a6b59d664dc"
  },
  {
   "cell_type": "code",
   "execution_count": null,
   "outputs": [],
   "source": [
    "AsyncClient.set_leds(\"leds_top\",[0,0, 32])"
   ],
   "metadata": {
    "collapsed": false
   },
   "id": "ffd6dcaea6d30e73"
  },
  {
   "cell_type": "markdown",
   "source": [
    "### The ThymioRobot class"
   ],
   "metadata": {
    "collapsed": false
   },
   "id": "816aa2b719fa7986"
  },
  {
   "cell_type": "markdown",
   "source": [
    "it is important to note that for this class we get values for pos and goal that use the main convention of the class which we then had to convert into the astolfi conventions. Therefore we inherit a position which is an array with $[x,y,\\theta]$ and we have to convert it into $[x,y,\\theta+\\pi]$ to then be able to apply the controller."
   ],
   "metadata": {
    "collapsed": false
   },
   "id": "2c37d6e2c63884f9"
  },
  {
   "cell_type": "code",
   "execution_count": null,
   "outputs": [],
   "source": [
    "import numpy as np\n",
    "\n",
    "import dependencies.constants_robot as constants_robot\n",
    "from dependencies.AsyncClientInterface import AsyncClientInterface\n",
    "from dependencies.helper_functions import convert_angle\n",
    "\n",
    "\n",
    "class ThymioRobot():\n",
    "    \"\"\"\n",
    "    :param np.array self.position: describes the initial position and the angle in the clockwise direction\n",
    "    \"\"\"\n",
    "\n",
    "    def __init__(self, init_position=None,\n",
    "                 kappa_alpha: float = constants_robot.DEFAULT_KAPPA_ALPHA,\n",
    "                 kappa_rho: float = constants_robot.DEFAULT_KAPPA_RHO,\n",
    "                 kappa_beta: float = constants_robot.DEFAULT_KAPPA_BETA,\n",
    "                 threshold: float = constants_robot.DEFAULT_THRESHOLD):\n",
    "        if init_position is None:\n",
    "            self._position = np.array([0, 0, 0])\n",
    "        else:\n",
    "            self._position = init_position\n",
    "        self.__THRESHOLD = threshold\n",
    "        self.__KAPPA_ALPHA = kappa_alpha\n",
    "        self.__KAPPA_BETA = kappa_beta\n",
    "        self.__KAPPA_RHO = kappa_rho\n",
    "        self.movement_thread = None\n",
    "        self.goal = None\n",
    "        self.__WHEEL_DISTANCE = 0.09  # in m\n",
    "        self.AsyncClient = AsyncClientInterface()\n",
    "        self.on_objective: bool = False\n",
    "        self.is_not_happy = True\n",
    "\n",
    "    def set_new_goal(self, new_goal: list[int, int, int] | np.ndarray):\n",
    "        self.goal = np.array(new_goal)\n",
    "\n",
    "    def set_new_position(self, position: np.array):\n",
    "        self._position = position\n",
    "\n",
    "    def be_happy(self):\n",
    "        self.not_angry()\n",
    "        self.is_not_happy = False\n",
    "        self.AsyncClient.set_motors(0, 0)\n",
    "\n",
    "    def stop(self):\n",
    "        self.AsyncClient.set_motors(left_motor=0, right_motor=0)\n",
    "\n",
    "    def apply_local_nav(self):\n",
    "        \"\"\"\n",
    "        Applies the local navigation with a simple ANN model\n",
    "        \"\"\"\n",
    "        # first row left motor second right\n",
    "        W = np.array([[1, 1, 1, -1, -1], [-1, -1, -1, 1, 1]]) * constants_robot.LOCAL_NAV_FACTOR\n",
    "        lr_motor = W @ self.get_sensors().T + constants_robot.LOCAL_NAV_FORWARD_SPEED\n",
    "        self.AsyncClient.set_motors(left_motor=int(lr_motor[0]), right_motor=int(lr_motor[1]))\n",
    "\n",
    "    def get_sensors(self, sensor: str = \"horizontal_sensor\") -> list | np.ndarray | int:\n",
    "        \"\"\"\n",
    "        :param sensor: either \"horizontal_sensor\" one gets classical horizontal sensors or \"wheels\"\n",
    "        :type sensor: str\n",
    "        then right wheel speed \"wheels_target\" the value stored in aseba.\n",
    "        :rtype np.ndarray:\n",
    "        :return: left then right wheel or horizontal array of sensors\n",
    "        \"\"\"\n",
    "        if sensor == \"horizontal_sensor\":\n",
    "            return np.array(self.AsyncClient.get_sensor(self.AsyncClient.PROX_HORIZONTAL_VALUES))[0:5]\n",
    "        elif sensor == \"wheels\":\n",
    "            return np.array([self.AsyncClient.get_sensor(self.AsyncClient.LEFT_SPEED),\n",
    "                             self.AsyncClient.get_sensor(self.AsyncClient.RIGHT_SPEED)])\n",
    "\n",
    "    def not_angry(self):\n",
    "        \"\"\"\n",
    "        set the top leds to off\n",
    "        \"\"\"\n",
    "        self.AsyncClient.set_led(\"leds_top\", [0, 0, 0])\n",
    "\n",
    "    def angry(self):\n",
    "        \"\"\"\n",
    "        set the leds to red\n",
    "        \"\"\"\n",
    "        self.AsyncClient.set_led(\"leds_top\", [32, 0, 0])\n",
    "\n",
    "    def apply_motor_command(self):\n",
    "        \"\"\"\n",
    "        Applies the astolfi command in accordance to the goal and the position we have given to\n",
    "        \"\"\"\n",
    "        movement_vector = self.goal - self._position\n",
    "        rho = np.sqrt(movement_vector[1] ** 2 + movement_vector[0] ** 2)\n",
    "        if rho < self.__THRESHOLD:\n",
    "            self.on_objective = True\n",
    "            return\n",
    "        # we add np.pi to position[2] in order to adapt to alstofi referential as there is a difference in referential\n",
    "        alpha = convert_angle(-self._position[2] + np.pi + np.arctan2(-movement_vector[1], movement_vector[0]))\n",
    "        beta = convert_angle(- self._position[2] - alpha + np.pi)\n",
    "        forward_speed = self.__KAPPA_RHO * rho\n",
    "        turning_velocity = -(self.__WHEEL_DISTANCE / 2) * (self.__KAPPA_ALPHA * alpha + self.__KAPPA_BETA * beta)\n",
    "        if forward_speed > 150:\n",
    "            turning_velocity *= 150 / forward_speed\n",
    "            forward_speed = 150\n",
    "\n",
    "        movement_array = [-turning_velocity + forward_speed, turning_velocity + forward_speed]\n",
    "        self.AsyncClient.set_motors(left_motor=int(np.floor(movement_array[1])),\n",
    "                                    right_motor=int(np.floor(movement_array[0])))\n",
    "        self.on_objective = False\n",
    "        \n"
   ],
   "metadata": {
    "collapsed": false
   },
   "id": "371488b9251384bd"
  },
  {
   "cell_type": "markdown",
   "source": [
    "The setters and getters such as get_sensors, set_new_goal and set_new_position are simple functions which are essential to the proper functionning of the class."
   ],
   "metadata": {
    "collapsed": false
   },
   "id": "6b744db59e048713"
  },
  {
   "cell_type": "markdown",
   "source": [
    "The more interesting functions are the apply_motor_command and the local_nav command"
   ],
   "metadata": {
    "collapsed": false
   },
   "id": "ac3df055b8825a93"
  },
  {
   "cell_type": "code",
   "execution_count": null,
   "outputs": [],
   "source": [
    "def apply_motor_command(self):\n",
    "        \"\"\"\n",
    "        Applies the astolfi command in accordance to the goal and the position we have given to\n",
    "        \"\"\"\n",
    "        movement_vector = self.goal - self._position\n",
    "        rho = np.sqrt(movement_vector[1] ** 2 + movement_vector[0] ** 2)\n",
    "        if rho < self.__THRESHOLD:\n",
    "            self.on_objective = True\n",
    "            return\n",
    "        # we add np.pi to position[2] in order to adapt to the different astolfi referential\n",
    "        alpha = convert_angle(-self._position[2] + np.pi + np.arctan2(-movement_vector[1], movement_vector[0]))\n",
    "        beta = convert_angle(- self._position[2] - alpha + np.pi)\n",
    "        forward_speed = self.__KAPPA_RHO * rho\n",
    "        turning_velocity = (self.__WHEEL_DISTANCE / 2) * (self.__KAPPA_ALPHA * alpha + self.__KAPPA_BETA * beta)\n",
    "        if forward_speed > 150:\n",
    "            turning_velocity *= 150 / forward_speed\n",
    "            forward_speed = 150\n",
    "\n",
    "        movement_array = [-turning_velocity + forward_speed, turning_velocity + forward_speed]\n",
    "        self.AsyncClient.set_motors(left_motor=int(np.floor(movement_array[0])),\n",
    "                                    right_motor=int(np.floor(movement_array[1])))\n",
    "        self.on_objective = False\n",
    "     "
   ],
   "metadata": {
    "collapsed": false
   },
   "id": "ea2d96a2aaac285"
  },
  {
   "cell_type": "markdown",
   "source": [
    "Which apply the astolfy command"
   ],
   "metadata": {
    "collapsed": false
   },
   "id": "1616dd068301c86f"
  },
  {
   "cell_type": "markdown",
   "source": [
    "Indeed in this function we first extract the movement vector($[\\Delta x, \\Delta y, \\Delta \\theta]$) to be able to set rho, alpha and beta through $\\Delta x$ and $\\Delta y$"
   ],
   "metadata": {
    "collapsed": false
   },
   "id": "c68f91efe44617a8"
  },
  {
   "cell_type": "markdown",
   "source": [
    "From this we can calculate a $\\rho=||\\mathbf{[x,y]}||=\\sqrt{x^2+y^2}$ which then enables us to check whether we are in the threshhold in which case we just return as we want to keep the previous motor target profile. Therefore we just exit the function as there is no need for further execution"
   ],
   "metadata": {
    "collapsed": false
   },
   "id": "d6c3d02d64993cb7"
  },
  {
   "cell_type": "markdown",
   "source": [
    "We can then calculate $\\alpha=-(\\theta \\pm \\pi)+ \\arctan(\\frac{-\\Delta y}{\\Delta x})$"
   ],
   "metadata": {
    "collapsed": false
   },
   "id": "1d6e3ab657aaa8e1"
  },
  {
   "cell_type": "markdown",
   "source": [
    "We use $-\\Delta y$ due to the fact that we are in a different convention in main"
   ],
   "metadata": {
    "collapsed": false
   },
   "id": "e259ecdc7654a710"
  },
  {
   "cell_type": "markdown",
   "source": [
    "we finally calculate $\\beta = -(\\theta \\pm \\pi) -\\alpha$"
   ],
   "metadata": {
    "collapsed": false
   },
   "id": "5807f81103925bf5"
  },
  {
   "cell_type": "markdown",
   "source": [
    "We then apply the force profile accordingly to the course which we divide $\\nu = \\kappa_\\rho \\rho$ and $\\omega =\\kappa_\\alpha \\alpha+\\kappa_\\beta \\beta$ which we convert into a force profile"
   ],
   "metadata": {
    "collapsed": false
   },
   "id": "300208d30c02224f"
  },
  {
   "cell_type": "code",
   "execution_count": null,
   "outputs": [],
   "source": [
    "if forward_speed > 150:\n",
    "    turning_velocity *= 150 / forward_speed\n",
    "    forward_speed = 150\n"
   ],
   "metadata": {
    "collapsed": false
   },
   "id": "a0af6e687a8fd46b"
  },
  {
   "cell_type": "markdown",
   "source": [
    "we modulate the controller in order for the thymio to be more insensitive to the size of the terrain which can in extreme cases greatly increase the rho and therefore forward speed drowning out the rotation speed completely e.g left_motor= 510; right_motor=490$\\equiv$left_motor = 500; right_motor=500 seeing as how the motors cannot reach those speeds. This is due to the fact that $\\rho\\in[0;\\infty)$ is not bounded whereas $\\theta\\in[-\\pi;\\pi)$ is."
   ],
   "metadata": {
    "collapsed": false
   },
   "id": "e3e775061a89fa4b"
  },
  {
   "cell_type": "markdown",
   "source": [
    "We then apply these force profiles to the wheels"
   ],
   "metadata": {
    "collapsed": false
   },
   "id": "24abf41602838acf"
  },
  {
   "cell_type": "markdown",
   "source": [],
   "metadata": {
    "collapsed": false
   },
   "id": "5a894efe38efe6f9"
  },
  {
   "cell_type": "markdown",
   "source": [
    "Let us now look at the apply_local_nav function"
   ],
   "metadata": {
    "collapsed": false
   },
   "id": "2aa509bf48dba11c"
  },
  {
   "cell_type": "code",
   "execution_count": null,
   "outputs": [],
   "source": [
    "def apply_local_nav(self):\n",
    "        \"\"\"\n",
    "        Applies the local navigation with a simple ANN model\n",
    "        \"\"\"\n",
    "        # first row left motor second right\n",
    "        W = np.array([[1, 1, 1, -1, -1], [-1, -1, -1, 1, 1]]) * constants_robot.LOCAL_NAV_FACTOR\n",
    "        lr_motor = W @ self.get_sensors().T + constants_robot.LOCAL_NAV_FORWARD_SPEED\n",
    "        self.AsyncClient.set_motors(left_motor=int(lr_motor[0]), right_motor=int(lr_motor[1]))\n"
   ],
   "metadata": {
    "collapsed": false
   },
   "id": "6b3db18cf1ad2be4"
  },
  {
   "cell_type": "markdown",
   "source": [
    "Which, in a way very similar to the exercises, applies a tensor that takes in all the sensor values multiplies them by a matrix to give us the values for the wheels. For instance if the values of the left sensor are positive we want to take them and add them to the result so that the left motor speed increase when an obstacle is detected on the left. We also want to set the weights of the right sensors to be negative for the first row in order to put the left wheels in reverse when the thymio sees an obstacle to its right."
   ],
   "metadata": {
    "collapsed": false
   },
   "id": "bb7881fe165d76f8"
  },
  {
   "cell_type": "markdown",
   "source": [],
   "metadata": {
    "collapsed": false
   },
   "id": "699dd93e34523f92"
  }
 ],
 "metadata": {
  "kernelspec": {
   "display_name": "Python 3",
   "language": "python",
   "name": "python3"
  },
  "language_info": {
   "codemirror_mode": {
    "name": "ipython",
    "version": 2
   },
   "file_extension": ".py",
   "mimetype": "text/x-python",
   "name": "python",
   "nbconvert_exporter": "python",
   "pygments_lexer": "ipython2",
   "version": "2.7.6"
  }
 },
 "nbformat": 4,
 "nbformat_minor": 5
}
